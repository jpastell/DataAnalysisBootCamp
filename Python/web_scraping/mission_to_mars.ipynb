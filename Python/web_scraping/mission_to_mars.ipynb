{
 "cells": [
  {
   "cell_type": "code",
   "execution_count": 1,
   "metadata": {},
   "outputs": [],
   "source": [
    "#Importing modules\n",
    "import os\n",
    "from bs4 import BeautifulSoup\n",
    "import requests\n",
    "from splinter import Browser\n",
    "import pandas as pd"
   ]
  },
  {
   "cell_type": "code",
   "execution_count": 2,
   "metadata": {},
   "outputs": [
    {
     "name": "stdout",
     "output_type": "stream",
     "text": [
      "/usr/local/bin/chromedriver\r\n"
     ]
    }
   ],
   "source": [
    "!which chromedriver"
   ]
  },
  {
   "cell_type": "code",
   "execution_count": 3,
   "metadata": {},
   "outputs": [],
   "source": [
    "executable_path = {'executable_path': 'chromedriver'}\n",
    "browser = Browser('chrome', **executable_path, headless=False)"
   ]
  },
  {
   "cell_type": "markdown",
   "metadata": {},
   "source": [
    "### NASA Mars News"
   ]
  },
  {
   "cell_type": "code",
   "execution_count": 4,
   "metadata": {},
   "outputs": [],
   "source": [
    "#URL of page to be scraped\n",
    "url = 'https://mars.nasa.gov/news'\n",
    "browser.visit(url)"
   ]
  },
  {
   "cell_type": "code",
   "execution_count": 5,
   "metadata": {},
   "outputs": [],
   "source": [
    "# Create BeautifulSoup object; parse with 'html.parser'\n",
    "soup = BeautifulSoup(browser.html, 'html.parser')"
   ]
  },
  {
   "cell_type": "code",
   "execution_count": 6,
   "metadata": {},
   "outputs": [
    {
     "name": "stdout",
     "output_type": "stream",
     "text": [
      "Space Samples Link NASA's Apollo 11 and Mars 2020\n",
      "While separated by half a century, NASA's Apollo 11 and Mars 2020 missions share the same historic goal: returning samples to Earth.\n"
     ]
    }
   ],
   "source": [
    "latest_news = soup.find('div', class_='list_text')\n",
    "news_title = latest_news.find('div', class_='content_title').text\n",
    "news_p = latest_news.find('div', class_='article_teaser_body').text\n",
    "\n",
    "print(news_title)\n",
    "print(news_p)"
   ]
  },
  {
   "cell_type": "code",
   "execution_count": 7,
   "metadata": {},
   "outputs": [],
   "source": [
    "#Find all list divition than contain the data\n",
    "results = soup.find_all('div', class_='list_text')"
   ]
  },
  {
   "cell_type": "code",
   "execution_count": 8,
   "metadata": {},
   "outputs": [
    {
     "name": "stdout",
     "output_type": "stream",
     "text": [
      "----------\n",
      "Space Samples Link NASA's Apollo 11 and Mars 2020\n",
      "----------\n",
      "While separated by half a century, NASA's Apollo 11 and Mars 2020 missions share the same historic goal: returning samples to Earth.\n",
      "----------\n",
      "----------\n",
      "Small Satellite Mission of the Year\n",
      "----------\n",
      "The first interplanetary CubeSats were recognized by the engineering community with the 2019 Small Satellite Mission of the Year award.\n",
      "----------\n",
      "----------\n",
      "NASA 'Optometrists' Verify Mars 2020 Rover's 20/20 Vision\n",
      "----------\n",
      "Mars 2020 rover underwent an eye exam after several cameras were installed on the rover.\n",
      "----------\n",
      "----------\n",
      "New Finds for Mars Rover, Seven Years After Landing\n",
      "----------\n",
      "NASA's Curiosity rover is discovering odd rocks halfway into a region called the \"clay-bearing unit.\"\n",
      "----------\n",
      "----------\n",
      "MEDLI2 Installation on Mars 2020 Aeroshell Begins\n",
      "----------\n",
      "Hardware installed onto NASA's Mars 2020 entry vehicle this week will help to increase the safety of future Mars landings.\n",
      "----------\n",
      "----------\n",
      "NASA's Mars 2020 Rover Does Biceps Curls \n",
      "----------\n",
      "In this time-lapse video, the robotic arm on NASA's Mars 2020 rover maneuvers its 88-pound (40-kilogram) sensor-laden turret as it moves from a deployed to stowed configuration.\n",
      "----------\n",
      "----------\n",
      "Fueling of NASA's Mars 2020 Rover Power System Begins\n",
      "----------\n",
      "NASA gives the go-ahead to fuel the Mars 2020 rover's Multi-Mission Radioisotope Thermoelectric Generator, which will power rover and help keep it warm while exploring Mars.\n",
      "----------\n",
      "----------\n",
      "What Does a Marsquake Look Like?\n",
      "----------\n",
      "InSight scientists used a special \"shake room\" to demonstrate the differences between quakes on Earth, the Moon and Mars.\n",
      "----------\n",
      "----------\n",
      "Mars 2020 Rover: T-Minus One Year and Counting \n",
      "----------\n",
      "The launch period for NASA's next rover, Mars 2020, opens exactly one year from today, July 17, 2020, and extends through Aug. 5, 2020.\n",
      "----------\n",
      "----------\n",
      "NASA Racks Up Two Emmy Nominations for Mission Coverage\n",
      "----------\n",
      "JPL's coverage of the Mars InSight mission is among the efforts that will be up for an award in mid-September.\n",
      "----------\n",
      "----------\n",
      "Want to Colonize Mars? Aerogel Could Help\n",
      "----------\n",
      "Researchers are studying whether a wonder material used in Mars rovers could help warm parts of the Red Planet rich in water ice.\n",
      "----------\n",
      "----------\n",
      "A Rover Pit Stop at JPL\n",
      "----------\n",
      "Working like a finely honed machine, a team of engineers in this time-lapse video clip install test wheels on another finely honed machine: NASA's Mars 2020 rover.\n",
      "----------\n",
      "----------\n",
      "Mars 2020 Rover Gets a Super Instrument\n",
      "----------\n",
      "With its rock-zapping laser, the SuperCam will enable the science team to identify the chemical and mineral makeup of its targets on the Red Planet.\n",
      "----------\n",
      "----------\n",
      "A Neil Armstrong for Mars: Landing the Mars 2020 Rover\n",
      "----------\n",
      "NASA's newest rover will have an autopilot called Terrain-Relative Navigation.\n",
      "----------\n",
      "----------\n",
      "NASA's InSight Uncovers the 'Mole' \n",
      "----------\n",
      "The lander's robotic arm has successfully removed a piece of hardware blocking the view of its digging device in order to help with recovery efforts.\n",
      "----------\n",
      "----------\n",
      "Mars 2020 Rover's 7-Foot-Long Robotic Arm Installed\n",
      "----------\n",
      "The main robotic arm has been installed on NASA's newest rover. When complete, the arm will enable the rover to hold and use science tools like a human geologist would.\n",
      "----------\n",
      "----------\n",
      "NASA Selects Partners for Mars 2020 'Name the Rover' Contest, Seeks Judges\n",
      "----------\n",
      "The contest for U.S. schoolchildren will open in fall 2019, but judges can sign up now.\n",
      "----------\n",
      "----------\n",
      "Curiosity's Mars Methane Mystery Continues\n",
      "----------\n",
      "The Curiosity rover’s follow-on sampling shows last week’s methane levels have sharply decreased.\n",
      "----------\n",
      "----------\n",
      "Mars 2020 Rover Gets Its Wheels\n",
      "----------\n",
      "With the mobility suspension in place, the rover not only looks more like a rover but has many of its 'big-ticket items' installed.\n",
      "----------\n",
      "----------\n",
      "The Mast Is Raised for NASA's Mars 2020 Rover\n",
      "----------\n",
      "Engineers at JPL take a group selfie after attaching the remote sensing mast to the Mars 2020 rover.\n",
      "----------\n",
      "----------\n",
      "NASA's Mars 2020 Will Blaze a Trail — for Humans\n",
      "----------\n",
      "The next robotic Mars mission will carry technology that will help enable astronauts to eventually explore the Red Planet.\n",
      "----------\n",
      "----------\n",
      "Johnson-Built Device to Help Mars 2020 Rover Search for Signs of Life\n",
      "----------\n",
      "NASA’s Johnson Space Center (JSC) recently built a new calibration device for the rover to check SHERLOC’s function and properly tune it during the upcoming mission.\n",
      "----------\n",
      "----------\n",
      "Watch NASA Build Its Next Mars Rover\n",
      "----------\n",
      "A newly installed webcam offers the public a live, bird's-eye view of NASA's Mars 2020 rover as it takes shape at NASA's Jet Propulsion Laboratory. \n",
      "----------\n",
      "----------\n",
      "NASA's Mars Helicopter Testing Enters Final Phase\n",
      "----------\n",
      "NASA's Mars Helicopter flight demonstration project has passed a number of key tests with flying colors.\n",
      "----------\n",
      "----------\n",
      "InSight's Team Tries New Strategy to Help the 'Mole'\n",
      "----------\n",
      "The spacecraft's robotic arm will lift the heat probe's support structure, providing a better look at the instrument that has been trying to burrow into the Martian surface.\n",
      "----------\n",
      "----------\n",
      "Common Questions about InSight's 'Mole'\n",
      "----------\n",
      "There's a new plan to get InSight's \"mole\" moving again. The following Q&As with two members of the team answer some of the most common questions about the burrowing device, part of a science instrument called the Heat Flow and Physical Properties Package (HP3).\n",
      "----------\n",
      "----------\n",
      "NASA's Curiosity Mars Rover Finds a Clay Cache\n",
      "----------\n",
      "The rover recently drilled two samples, and both showed the highest levels of clay ever found during the mission.\n",
      "----------\n",
      "----------\n",
      "NASA to Land in Mars, Pennsylvania to Celebrate Red Planet with STEAM\n",
      "----------\n",
      "NASA returns to Mars, Pennsylvania Friday, May 31 to celebrate Mars exploration and share the agency’s excitement about landing astronauts on the Moon in five years.\n",
      "----------\n",
      "----------\n",
      "NASA's Mars 2020 Gets a Dose of Space Here on Earth\n",
      "----------\n",
      "NASA's Mars 2020 spacecraft has completed tests that are the best Earthly approximations of what the spacecraft will endure during launch and interplanetary cruise.\n",
      "----------\n",
      "----------\n",
      "NASA Invites Public to Submit Names to Fly Aboard Next Mars Rover\n",
      "----------\n",
      "From now till Sept. 30, the public can submit names to be stenciled on chips that will fly on the Mars 2020 rover and receive a souvenir boarding pass.\n",
      "----------\n",
      "----------\n",
      "NASA's MRO Completes 60,000 Trips Around Mars\n",
      "----------\n",
      "The orbiting spacecraft is also about to set a record for data relayed from the Martian surface.\n",
      "----------\n",
      "----------\n",
      "Video: Fly over Mount Sharp on Mars\n",
      "----------\n",
      "A new animation shows the region NASA's Curiosity rover is currently exploring and where its team wants to go in the future.\n",
      "----------\n",
      "----------\n",
      "Why This Martian Full Moon Looks Like Candy\n",
      "----------\n",
      "For the first time, NASA's Mars Odyssey orbiter has caught the Martian moon Phobos during a full moon phase. Each color in this new image represents a temperature range detected by Odyssey's infrared camera.\n",
      "----------\n",
      "----------\n",
      "For InSight, Dust Cleanings Will Yield New Science\n",
      "----------\n",
      "Wind can be crucial to clearing dust from spacecraft solar panels on Mars. With InSight's meteorological sensors, scientists get their first measurements of wind and dust interacting \"live\" on the Martian surface.  \n",
      "----------\n",
      "----------\n",
      "InSight Captures Sunrise and Sunset on Mars\n",
      "----------\n",
      "InSight joins the rest of NASA's Red Planet surface missions, all of which have photographed either the start or end of a Martian day.\n",
      "----------\n",
      "----------\n",
      "NASA Social Media and Websites Win Webby Awards \n",
      "----------\n",
      "NASA's social media presence, the InSight mission social media accounts, NASA.gov and SolarSystem.NASA.gov will be honored at the 2019 Webby Awards - \"the Oscars of the Internet.\"\n",
      "----------\n",
      "----------\n",
      "NASA's InSight Detects First Likely 'Quake' on Mars\n",
      "----------\n",
      "While their causes are still unknown, one of three shaking events looks a lot like the quakes detected on the Moon by the Apollo missions.\n",
      "----------\n",
      "----------\n",
      "Things Are Stacking up for NASA's Mars 2020 Spacecraft\n",
      "----------\n",
      "As the July 2020 launch date inches closer, the next spacecraft headed to the Red Planet is assembled for more testing.\n",
      "----------\n",
      "----------\n",
      "Curiosity Tastes First Sample in 'Clay-Bearing Unit'\n",
      "----------\n",
      "This new region on Mars might reveal more about the role of water on Mount Sharp.\n",
      "----------\n",
      "----------\n",
      "More Testing for Mars InSight's 'Mole'\n",
      "----------\n",
      "After the mission's heat probe began hammering last week, it appears to have hit a rock. The team is analyzing data before they hammer again.\n",
      "----------\n"
     ]
    }
   ],
   "source": [
    "#Iterate the div's found and look for titlesa and teasers\n",
    "for news in results:\n",
    "    title = news.find('div', class_='content_title').text\n",
    "    teaser = news.find('div', class_='article_teaser_body').text\n",
    "    print(\"-\"*10)\n",
    "    print(title)\n",
    "    print(\"-\"*10)\n",
    "    print(teaser)\n",
    "    print(\"-\"*10)"
   ]
  },
  {
   "cell_type": "markdown",
   "metadata": {},
   "source": [
    "### JPL Mars Space Images - Featured Image"
   ]
  },
  {
   "cell_type": "code",
   "execution_count": 9,
   "metadata": {},
   "outputs": [],
   "source": [
    "#URL of page to be scraped\n",
    "image_url = 'https://www.jpl.nasa.gov/spaceimages'\n",
    "browser.visit(image_url)"
   ]
  },
  {
   "cell_type": "code",
   "execution_count": 10,
   "metadata": {},
   "outputs": [],
   "source": [
    "# Create BeautifulSoup object; parse with 'html.parser'\n",
    "soup_img = BeautifulSoup(browser.html, 'html.parser')"
   ]
  },
  {
   "cell_type": "code",
   "execution_count": 11,
   "metadata": {},
   "outputs": [
    {
     "name": "stdout",
     "output_type": "stream",
     "text": [
      "Article page: https://www.jpl.nasa.gov/spaceimages/details.php?id=PIA22574\n"
     ]
    }
   ],
   "source": [
    "#Fimd the page to teh article that has the link to the large image\n",
    "image_result = soup_img.find('section', class_='centered_text clearfix main_feature primary_media_feature single')\n",
    "link_image = image_result.find('a',class_='button fancybox')['data-link']\n",
    "middle_page_link = image_url + link_image.split('spaceimages')[1]\n",
    "print(f\"Article page: {middle_page_link}\")"
   ]
  },
  {
   "cell_type": "code",
   "execution_count": 12,
   "metadata": {},
   "outputs": [],
   "source": [
    "#Scrape the new URL\n",
    "browser.visit(middle_page_link)\n",
    "soup_limg = BeautifulSoup(browser.html, 'html.parser')\n",
    "\n",
    "#with open(\"image1.html\", 'w') as out:\n",
    "#    out.write(soup_limg.prettify())"
   ]
  },
  {
   "cell_type": "code",
   "execution_count": 13,
   "metadata": {},
   "outputs": [
    {
     "name": "stdout",
     "output_type": "stream",
     "text": [
      "Large image page: https://www.jpl.nasa.gov/spaceimages/images/largesize/PIA22574_hires.jpg\n"
     ]
    }
   ],
   "source": [
    "#In this new page find the link to the large image\n",
    "limage_result = soup_limg.find('section', class_='content_page module').\\\n",
    "                                find('figure',class_='lede').find('a')['href']\n",
    "featured_image_url = image_url + limage_result.split('spaceimages')[1]\n",
    "print(f\"Large image page: {featured_image_url}\")"
   ]
  },
  {
   "cell_type": "markdown",
   "metadata": {},
   "source": [
    "### Mars Weather"
   ]
  },
  {
   "cell_type": "code",
   "execution_count": 14,
   "metadata": {},
   "outputs": [],
   "source": [
    "#URL of page to be scraped\n",
    "weather_url = 'https://twitter.com/marswxreport?lang=en'\n",
    "browser.visit(weather_url)\n",
    "\n"
   ]
  },
  {
   "cell_type": "code",
   "execution_count": 16,
   "metadata": {},
   "outputs": [],
   "source": [
    "weather_soup = BeautifulSoup(browser.html, 'html.parser')\n",
    "mars_weather = weather_soup.find('div', id='timeline').\\\n",
    "            find('div', class_='stream').find('div', class_='js-tweet-text-container').text"
   ]
  },
  {
   "cell_type": "code",
   "execution_count": 17,
   "metadata": {},
   "outputs": [
    {
     "data": {
      "text/plain": [
       "'\\nI’d say a plutonium-238 powered RTG qualifies the Curiosity and Mars2020 rovers as alternative fuel vehicles. You can explore these and other missions, rockets and more with JPL’s Spacecraft AR for IOS and Androhttps://www.jpl.nasa.gov/apps/pic.twitter.com/f4SheTlQyY\\n'"
      ]
     },
     "execution_count": 17,
     "metadata": {},
     "output_type": "execute_result"
    }
   ],
   "source": [
    "mars_weather"
   ]
  },
  {
   "cell_type": "markdown",
   "metadata": {},
   "source": [
    "### Mars Facts"
   ]
  },
  {
   "cell_type": "code",
   "execution_count": 18,
   "metadata": {},
   "outputs": [],
   "source": [
    "#URL to scrape\n",
    "url = 'https://space-facts.com/mars'\n",
    "tables = pd.read_html(url)"
   ]
  },
  {
   "cell_type": "code",
   "execution_count": 19,
   "metadata": {},
   "outputs": [
    {
     "data": {
      "text/html": [
       "<div>\n",
       "<style scoped>\n",
       "    .dataframe tbody tr th:only-of-type {\n",
       "        vertical-align: middle;\n",
       "    }\n",
       "\n",
       "    .dataframe tbody tr th {\n",
       "        vertical-align: top;\n",
       "    }\n",
       "\n",
       "    .dataframe thead th {\n",
       "        text-align: right;\n",
       "    }\n",
       "</style>\n",
       "<table border=\"1\" class=\"dataframe\">\n",
       "  <thead>\n",
       "    <tr style=\"text-align: right;\">\n",
       "      <th></th>\n",
       "      <th>0</th>\n",
       "      <th>1</th>\n",
       "    </tr>\n",
       "  </thead>\n",
       "  <tbody>\n",
       "    <tr>\n",
       "      <th>0</th>\n",
       "      <td>Equatorial Diameter:</td>\n",
       "      <td>6,792 km</td>\n",
       "    </tr>\n",
       "    <tr>\n",
       "      <th>1</th>\n",
       "      <td>Polar Diameter:</td>\n",
       "      <td>6,752 km</td>\n",
       "    </tr>\n",
       "    <tr>\n",
       "      <th>2</th>\n",
       "      <td>Mass:</td>\n",
       "      <td>6.39 × 10^23 kg (0.11 Earths)</td>\n",
       "    </tr>\n",
       "    <tr>\n",
       "      <th>3</th>\n",
       "      <td>Moons:</td>\n",
       "      <td>2 (Phobos &amp; Deimos)</td>\n",
       "    </tr>\n",
       "    <tr>\n",
       "      <th>4</th>\n",
       "      <td>Orbit Distance:</td>\n",
       "      <td>227,943,824 km (1.38 AU)</td>\n",
       "    </tr>\n",
       "    <tr>\n",
       "      <th>5</th>\n",
       "      <td>Orbit Period:</td>\n",
       "      <td>687 days (1.9 years)</td>\n",
       "    </tr>\n",
       "    <tr>\n",
       "      <th>6</th>\n",
       "      <td>Surface Temperature:</td>\n",
       "      <td>-87 to -5 °C</td>\n",
       "    </tr>\n",
       "    <tr>\n",
       "      <th>7</th>\n",
       "      <td>First Record:</td>\n",
       "      <td>2nd millennium BC</td>\n",
       "    </tr>\n",
       "    <tr>\n",
       "      <th>8</th>\n",
       "      <td>Recorded By:</td>\n",
       "      <td>Egyptian astronomers</td>\n",
       "    </tr>\n",
       "  </tbody>\n",
       "</table>\n",
       "</div>"
      ],
      "text/plain": [
       "                      0                              1\n",
       "0  Equatorial Diameter:                       6,792 km\n",
       "1       Polar Diameter:                       6,752 km\n",
       "2                 Mass:  6.39 × 10^23 kg (0.11 Earths)\n",
       "3                Moons:            2 (Phobos & Deimos)\n",
       "4       Orbit Distance:       227,943,824 km (1.38 AU)\n",
       "5         Orbit Period:           687 days (1.9 years)\n",
       "6  Surface Temperature:                   -87 to -5 °C\n",
       "7         First Record:              2nd millennium BC\n",
       "8          Recorded By:           Egyptian astronomers"
      ]
     },
     "execution_count": 19,
     "metadata": {},
     "output_type": "execute_result"
    }
   ],
   "source": [
    "tables[1]"
   ]
  },
  {
   "cell_type": "code",
   "execution_count": 20,
   "metadata": {},
   "outputs": [
    {
     "data": {
      "text/plain": [
       "'<table border=\"1\" class=\"dataframe\">\\n  <thead>\\n    <tr style=\"text-align: right;\">\\n      <th>0</th>\\n      <th>1</th>\\n    </tr>\\n  </thead>\\n  <tbody>\\n    <tr>\\n      <td>Equatorial Diameter:</td>\\n      <td>6,792 km</td>\\n    </tr>\\n    <tr>\\n      <td>Polar Diameter:</td>\\n      <td>6,752 km</td>\\n    </tr>\\n    <tr>\\n      <td>Mass:</td>\\n      <td>6.39 × 10^23 kg (0.11 Earths)</td>\\n    </tr>\\n    <tr>\\n      <td>Moons:</td>\\n      <td>2 (Phobos &amp; Deimos)</td>\\n    </tr>\\n    <tr>\\n      <td>Orbit Distance:</td>\\n      <td>227,943,824 km (1.38 AU)</td>\\n    </tr>\\n    <tr>\\n      <td>Orbit Period:</td>\\n      <td>687 days (1.9 years)</td>\\n    </tr>\\n    <tr>\\n      <td>Surface Temperature:</td>\\n      <td>-87 to -5 °C</td>\\n    </tr>\\n    <tr>\\n      <td>First Record:</td>\\n      <td>2nd millennium BC</td>\\n    </tr>\\n    <tr>\\n      <td>Recorded By:</td>\\n      <td>Egyptian astronomers</td>\\n    </tr>\\n  </tbody>\\n</table>'"
      ]
     },
     "execution_count": 20,
     "metadata": {},
     "output_type": "execute_result"
    }
   ],
   "source": [
    "tables[1].to_html(header=True,index=False)"
   ]
  },
  {
   "cell_type": "markdown",
   "metadata": {},
   "source": [
    "### Mars Hemispheres"
   ]
  },
  {
   "cell_type": "code",
   "execution_count": 21,
   "metadata": {},
   "outputs": [],
   "source": [
    "#URL of page to be scraped\n",
    "main_page = 'https://astrogeology.usgs.gov'\n",
    "hemispheres_url = main_page +'/search/results?q=hemisphere+enhanced&k1=target&v1=Mars'\n",
    "browser.visit(hemispheres_url)"
   ]
  },
  {
   "cell_type": "code",
   "execution_count": 22,
   "metadata": {},
   "outputs": [],
   "source": [
    "hemispheres_soup = BeautifulSoup(browser.html, 'html.parser')"
   ]
  },
  {
   "cell_type": "code",
   "execution_count": 23,
   "metadata": {},
   "outputs": [],
   "source": [
    "hemispheres = hemispheres_soup.find('div', class_='collapsible results').find_all('div',class_='item')"
   ]
  },
  {
   "cell_type": "code",
   "execution_count": 24,
   "metadata": {},
   "outputs": [
    {
     "data": {
      "text/plain": [
       "[{'title': 'Cerberus Hemisphere Enhanced',\n",
       "  'img_url': 'https://astrogeology.usgs.gov/cache/images/cfa62af2557222a02478f1fcd781d445_cerberus_enhanced.tif_full.jpg'},\n",
       " {'title': 'Schiaparelli Hemisphere Enhanced',\n",
       "  'img_url': 'https://astrogeology.usgs.gov/cache/images/3cdd1cbf5e0813bba925c9030d13b62e_schiaparelli_enhanced.tif_full.jpg'},\n",
       " {'title': 'Syrtis Major Hemisphere Enhanced',\n",
       "  'img_url': 'https://astrogeology.usgs.gov/cache/images/ae209b4e408bb6c3e67b6af38168cf28_syrtis_major_enhanced.tif_full.jpg'},\n",
       " {'title': 'Valles Marineris Hemisphere Enhanced',\n",
       "  'img_url': 'https://astrogeology.usgs.gov/cache/images/7cf2da4bf549ed01c17f206327be4db7_valles_marineris_enhanced.tif_full.jpg'}]"
      ]
     },
     "execution_count": 24,
     "metadata": {},
     "output_type": "execute_result"
    }
   ],
   "source": [
    "#Iiterate the paget to colle dteh data\n",
    "hemisphere_image_urls = list()\n",
    "\n",
    "for hemisphere in hemispheres:\n",
    "    title = hemisphere.find('div',class_='description').find('h3').text\n",
    "    img_url = hemisphere.find('a')['href']\n",
    "    #print(main_page +img_url)\n",
    "    #Iterate over the link to get the complete image:\n",
    "    browser.visit(main_page+img_url)\n",
    "    img_comp = BeautifulSoup(browser.html, 'html.parser')\n",
    "    wide_img_link = img_comp.find('div',id='wide-image').find('img',class_='wide-image')['src']\n",
    "    hemisphere_image_urls.append({\"title\": title, \"img_url\": main_page+wide_img_link})\n",
    "    \n",
    "hemisphere_image_urls"
   ]
  }
 ],
 "metadata": {
  "kernelspec": {
   "display_name": "Python 3",
   "language": "python",
   "name": "python3"
  },
  "language_info": {
   "codemirror_mode": {
    "name": "ipython",
    "version": 3
   },
   "file_extension": ".py",
   "mimetype": "text/x-python",
   "name": "python",
   "nbconvert_exporter": "python",
   "pygments_lexer": "ipython3",
   "version": "3.6.8"
  }
 },
 "nbformat": 4,
 "nbformat_minor": 2
}
